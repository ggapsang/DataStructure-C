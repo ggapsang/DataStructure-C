{
  "nbformat": 4,
  "nbformat_minor": 0,
  "metadata": {
    "colab": {
      "provenance": [],
      "collapsed_sections": [
        "AjcGDw1zzVDL"
      ],
      "authorship_tag": "ABX9TyOKQly855G2o2FNL4PSV0QH",
      "include_colab_link": true
    },
    "kernelspec": {
      "name": "python3",
      "display_name": "Python 3"
    },
    "language_info": {
      "name": "python"
    }
  },
  "cells": [
    {
      "cell_type": "markdown",
      "metadata": {
        "id": "view-in-github",
        "colab_type": "text"
      },
      "source": [
        "<a href=\"https://colab.research.google.com/github/ggapsang/DataStructure-C/blob/main/e3d_to_fre_230825_r1.ipynb\" target=\"_parent\"><img src=\"https://colab.research.google.com/assets/colab-badge.svg\" alt=\"Open In Colab\"/></a>"
      ]
    },
    {
      "cell_type": "markdown",
      "source": [
        "# 라이브러리 import"
      ],
      "metadata": {
        "id": "vqv1jzQGorlb"
      }
    },
    {
      "cell_type": "code",
      "source": [
        "import numpy as np\n",
        "import pandas as pd"
      ],
      "metadata": {
        "id": "6HHLBFWTpAEQ"
      },
      "execution_count": null,
      "outputs": []
    },
    {
      "cell_type": "markdown",
      "source": [
        "# 주요 함수 선언"
      ],
      "metadata": {
        "id": "sSYzazhzpFjW"
      }
    },
    {
      "cell_type": "markdown",
      "source": [
        "단위변환"
      ],
      "metadata": {
        "id": "yf5ciQeDpT_C"
      }
    },
    {
      "cell_type": "code",
      "source": [
        "# mm, inch, feet 사이의 단위를 바꾼다.\n",
        "def change_uom(from_uom, to_uom, value) :  #from_uom : 현재 단위,  to_uom : 바뀌는 단위, value : 값\n",
        "    if from_uom == \"meter\" and to_uom == \"feet\" :\n",
        "        return value*0.00328\n",
        "\n",
        "    elif from_uom == \"meter\" and to_uom == \"inch\" :\n",
        "        return value*0.03937\n",
        "\n",
        "    elif from_uom == \"feet\" and to_uom == \"meter\" :\n",
        "        return value*304.8\n",
        "\n",
        "    elif from_uom == \"feet\" and to_uom == \"inch\" :\n",
        "        return value*12\n",
        "\n",
        "    elif from_uom == \"inch\" and to_uom == \"meter\" :\n",
        "        return value*25.4\n",
        "\n",
        "    elif from_uom == \"inch\" and to_uom == \"feet\" :\n",
        "        return value*0.08333"
      ],
      "metadata": {
        "id": "gBwOjZS_pPOb"
      },
      "execution_count": null,
      "outputs": []
    },
    {
      "cell_type": "markdown",
      "source": [
        "E3D POS 좌표를 백터로 변환"
      ],
      "metadata": {
        "id": "XBOF34_rpsIh"
      }
    },
    {
      "cell_type": "code",
      "source": [
        "## (E 100000mm N200000mm U300000mm)의 형식으로 되어 있는 E3D 좌표를 백터값 (X, Y, Z)로 바꿈\n",
        "def extract_coor_v(string) :\n",
        "    string.strip()\n",
        "    lst = string.split()\n",
        "    vector_v_lst = []\n",
        "    for element in range(1, 6, 2) :\n",
        "        vector_v_lst.append(float(lst[element].replace(\"mm\",\"\")))\n",
        "    vector = tuple(vector_v_lst)\n",
        "    return vector"
      ],
      "metadata": {
        "id": "lnPSlsK3qykv"
      },
      "execution_count": null,
      "outputs": []
    },
    {
      "cell_type": "markdown",
      "source": [
        "NPS에 따른 배관의 outdia 반환"
      ],
      "metadata": {
        "id": "ir89AY9Xq2BW"
      }
    },
    {
      "cell_type": "code",
      "source": [
        "## NPS \"값 기준으로 outdia 반환. ASTM CODE 기준. 실경의 단위는 mm이다.\n",
        "def get_od(df, nps) : #df는 데이터프레임. material.csv 파일이 데이터프레임으로 변환된 상태에서 사용되는 함수\n",
        "    for i in range(0, len(df)) :\n",
        "        if df.loc[i, \"size\"] == nps :\n",
        "            return df.loc[i, \"outdia\"]\n"
      ],
      "metadata": {
        "id": "JqYQQSCGrN3y"
      },
      "execution_count": null,
      "outputs": []
    },
    {
      "cell_type": "markdown",
      "source": [
        "# csv 데이터 불러오기"
      ],
      "metadata": {
        "id": "YIOuh1aDrhi_"
      }
    },
    {
      "cell_type": "code",
      "source": [
        "## 데이터 파일 로딩\n",
        "#df_material = pd.read_csv(\"material.csv\") # ASTM code 기준 각종 피팅류들의 span 값 데이터\n",
        "df_e3d = pd.read_csv(\"e3d_sample.csv\") # E3D 추출값을 바탕으로 DataFrame 생성"
      ],
      "metadata": {
        "id": "3ymQ4UqNrtma"
      },
      "execution_count": null,
      "outputs": []
    },
    {
      "cell_type": "markdown",
      "source": [
        "# 데이터 전처리를 위한 자료"
      ],
      "metadata": {
        "id": "vuey15Vdr-qF"
      }
    },
    {
      "cell_type": "code",
      "source": [
        "# DataFrame에서.fre 파일 작성을 위해 필요한 칼럼 리스트\n",
        "need_col = ['ARRAY ORDER',\n",
        "            'NAME',\n",
        "            'TYPE',\n",
        "            'OWNER',\n",
        "            'LBOR',\n",
        "            'SPRE',\n",
        "            'ITLE',\n",
        "            'ITPS',\n",
        "            'POS',\n",
        "            'ORI',\n",
        "            'ANGL']\n"
      ],
      "metadata": {
        "id": "EJnXYprEsHIh"
      },
      "execution_count": null,
      "outputs": []
    },
    {
      "cell_type": "code",
      "source": [
        "# E3D의 TYPE과 .fre의 필드 매핑 _ 1차 매핑으로 이후 형상정보들간의 관계에 따라 필드값은 달라질 수 있음\n",
        "dic_type_card = {'TUBI':'TANG',\n",
        "                 'VALV':'VALV',\n",
        "                 'FTUB':'TANG',\n",
        "                 'CAP':'CAP',\n",
        "                 'ELBO':'BRAD',\n",
        "                 'ATTA':'RSTN',\n",
        "                 'FLAN':'FLNG',\n",
        "                 'GASK':None,\n",
        "                 'FILT':'ANCH',\n",
        "                 'OLET':'BRAN',\n",
        "                 'REDU':'ERED',\n",
        "                 'INST':'VALV'}"
      ],
      "metadata": {
        "id": "49QlhkBLsIqk"
      },
      "execution_count": null,
      "outputs": []
    },
    {
      "cell_type": "code",
      "source": [
        "# NPS outdia 매핑. ASTM 기준\n",
        "dic_nps_od = {0.5 : 21.3,\n",
        "              0.75 : 26.7,\n",
        "              1 : 33.4,\n",
        "              1.25 : 42.2,\n",
        "              1.5 : 48.8,\n",
        "              2 : 60.3,\n",
        "              2.5 : 73,\n",
        "              3 : 88.9,\n",
        "              3.5 : 101.6,\n",
        "              4 : 101.6,\n",
        "              5 : 141.3,\n",
        "              6 : 168.3,\n",
        "              8 : 219.1,\n",
        "              10 : 273,\n",
        "              12 : 323.8,\n",
        "              14 : 355.6,\n",
        "              16 : 406.4,\n",
        "              18 : 457,\n",
        "              20 : 508,\n",
        "              22 : 559,\n",
        "              24 : 610,\n",
        "              26 : 660,\n",
        "              28 : 711,\n",
        "              30 : 762,\n",
        "              32 : 813,\n",
        "              34 : 864,\n",
        "              36 : 914,\n",
        "              40 : 1016,\n",
        "              42 : 1067,\n",
        "              44 : 1118,\n",
        "              46 : 1168,\n",
        "              48 : 1219}"
      ],
      "metadata": {
        "id": "A67asXlK4Jve"
      },
      "execution_count": null,
      "outputs": []
    },
    {
      "cell_type": "code",
      "source": [
        "base_lines = [\n",
        "\"*==================================\",\n",
        "\"*SECTION 1 : IDENTIFICATION & TITLE\",\n",
        "\"*==================================\",\n",
        "\"IDEN JB=1 CD=4 GR=-Y IU=1 OU=1\",\n",
        "\"TITL BL=3 CV=14 GL=2 SU=1 HS=1 OF=1 BR=1 AL=3 PR=1 TI=/SKN5&6 11B15 9-371-P397-FW411 REV.02 SUBSYSTEM 9FW411/\",\n",
        "\"\",\n",
        "\"*==========================\",\n",
        "\"*SECTION 2 : ANALYSIS CARDS\",\n",
        "\"*==========================\",\n",
        "\"\",\n",
        "\"*MODAL EXTRACTION\",\n",
        "\"*****************\",\n",
        "\"FREQ FR=50 MP=1000 TR=1 LO=1 RP=8\",\n",
        "\"\",\n",
        "\"*STATIC CASES\",\n",
        "\"*************\",\n",
        "\"LCAS CA=899 TY=9 EQ=2 TI=/DESIGN WEIGHT ANALYSIS/\",\n",
        "\"LCAS CA=10 EQ=2 TY=3 TI=/OPERATING WEIGHT ANALYSIS/\",\n",
        "\"LCAS CA=11 EQ=2 TY=3 TI=/PEAK PRESSURE ANALYSIS/\",\n",
        "\"LCAS CA=12 EQ=2 TY=3 TI=/DESIGN PRESSURE ANALYSIS/\",\n",
        "\"*LCAS CA=13 EQ=2 TY=4 TI=/HYDRO TEST ANALYSIS/\",\n",
        "\"LCAS CA=101 EQ=7 TY=0 TI=/FW CLEAN-UP RECIRCULATION (TH01)/\",\n",
        "\"LCAS CA=102 EQ=7 TY=0 TI=/REACTOR LOW POWER NORMAL PLANT OPER/\",\n",
        "\"LCAS CA=103 EQ=7 TY=0 TI=/NORMAL PLANT OPERATION Reactor Trip/\",\n",
        "\"LCAS CA=201 EQ=7 TY=6 TI=/PUMP TRIP (DISP)/\",\n",
        "\"LCAS CA=202 EQ=7 TY=6 TI=/PUMP TRIP (DISP)/\",\n",
        "\"LCAS CA=203 EQ=7 TY=6 TI=/PUMP TRIP (DISP)/\",\n",
        "\"LCAS CA=204 EQ=7 TY=6 TI=/PUMP TRIP (DISP)/\",\n",
        "\"LCAS CA=205 EQ=7 TY=6 TI=/PUMP TRIP (DISP)/\",\n",
        "\"LCAS CA=206 EQ=7 TY=6 TI=/PUMP TRIP (DISP)/\",\n",
        "\"\",\n",
        "\"CCAS CA=800 RF=12 ME=0 EQ=2 C1=12 TI=/EQ.8/\",\n",
        "\"\",\n",
        "\"CCAS CA=810 ME=8  EQ=1 C1=201 C2=202 C3=203 C4=204 C5=205 C6=206\",\n",
        "\"CCAS CA=811 RF=11 ME=1 EQ=3 C1=11 TI=/EQ.9B/\",\n",
        "\"CCAS CA=812 RF=11 ME=1 EQ=3 C1=11 C2=810 TI=/EQ.9B/\",\n",
        "\"CCAS CA=813 RF=11 ME=1 EQ=3 C1=11 C2=810 TI=/EQ.9B/\",\n",
        "\"CCAS CA=814 RF=11 ME=1 EQ=3 C1=11 C2=810 TI=/EQ.9B/\",\n",
        "\"\",\n",
        "\"CCAS CA=850 ME=8 EQ=7 C1=101 C2=102 C3=103 TI=/THERMAL RANGE/\",\n",
        "\"\",\n",
        "\"*===================================\",\n",
        "\"*SECTION 3: GEOMETRY & LOADING CARDS\",\n",
        "\"*===================================\",\n",
        "\"*\",\n",
        "\"*MATERIALS\",\n",
        "\"**********\",\n",
        "\"* MATERIAL: A106 Grade B (C-Si steel)\",\n",
        "\"***************************************\",\n",
        "\"MATH CD=107 EX=2 TY=9 SG=0.3 TA=70 TX=700 KL=1\",\n",
        "\"MATD TE=70  EH=29.5 EX=6.40 SH=17.1 SY=35.0\",\n",
        "\"MATD TE=100 EH=29.5 EX=6.40 SH=17.1 SY=35.0\",\n",
        "\"MATD TE=200 EH=28.8 EX=6.70 SH=17.1 SY=32.1\",\n",
        "\"MATD TE=300 EH=28.3 EX=6.90 SH=17.1 SY=31.0\",\n",
        "\"MATD TE=400 EH=27.7 EX=7.10 SH=17.1 SY=29.9\",\n",
        "\"MATD TE=500 EH=27.3 EX=7.30 SH=17.1 SY=28.5\",\n",
        "\"MATD TE=600 EH=26.7 EX=7.40 SH=17.1 SY=26.8\",\n",
        "\"MATD TE=700 EH=25.5 EX=7.60 SH=15.6 SY=25.1\",\n",
        "\"\",\n",
        "\"\",\n",
        "\"* MATERIAL: A358-304 CL2 (18Cr - 8Ni)\",\n",
        "\"************************************\",\n",
        "\"MATH CD=108 EX=2 TY=9 SG=0.3 TA=70 TX=800 KL=1\",\n",
        "\"MATD TE=70  EH=28.3 EX=8.5 SH=16.2  SY=30.0\",\n",
        "\"MATD TE=200 EH=27.6 EX=8.9 SH=16.2  SY=25.0\",\n",
        "\"MATD TE=300 EH=27.0 EX=9.2 SH=15.3  SY=22.4\",\n",
        "\"MATD TE=400 EH=26.5 EX=9.5 SH=14.8  SY=20.7\",\n",
        "\"MATD TE=500 EH=25.8 EX=9.7 SH=14.1  SY=19.4\",\n",
        "\"MATD TE=600 EH=25.3 EX=9.8 SH=14.0  SY=18.4\",\n",
        "\"MATD TE=650 EH=25.1 EX=9.9 SH=13.1  SY=18.0\",\n",
        "\"MATD TE=700 EH=24.8 EX=10.0 SH=12.8 SY=17.2\",\n",
        "\"MATD TE=800 EH=24.1 EX=10.1 SH=12.3 SY=16.9\",\n",
        "\"\",\n",
        "\"\",\n",
        "\"*CROSS SECTIONS\",\n",
        "\"***************\",\n",
        "\"CROS CD=1 OD=14 WT=0.938 MA=195.83 KL=1 AL=/14\\\" PIPE SCH.100/\",\n",
        "\"CROS CD=2 OD=14 WT=3.75 KL=1 AL=/10\\\" GLOBE VALVE(V0107)/\",\n",
        "\"CROS CD=3 OD=8.625 WT=0.594 MA=80.834 KL=1 AL=/8\\\" PIPE SCH.100 INSUL2.5/\",\n",
        "\"CROS CD=4 OD=8.625 WT=2.79 KL=1 AL=/8\\\" GATE VALVE (V2200, V2201)/\",\n",
        "\"CROS CD=5 OD=24 WT=1.812 KL=1 AL=/24\\\" HEADER PIPE/\",\n",
        "\"CROS CD=6 OD=14 WT=0.75 MA=174.38 KL=1 AL=/14\\\" PIPE SCH.80/\",\n",
        "\"CROS CD=7 OD=10.75 WT=0.719 MA=118.93 KL=1 AL=/10\\\" PIPE SCH.100/\",\n",
        "\"\",\n",
        "\"*INITIAL CONDITIONS\",\n",
        "\"*******************\",\n",
        "\"MATL CD=108\",\n",
        "\"\",\n",
        "\"DESN TE=400 PR=500\",\n",
        "\"PRES CA=11  PR=550  AL=/PEAK PRESSURE/,\",\n",
        "\"PRES CA=12  PR=750  AL=/DESIGN PRESSURE/,\",\n",
        "\"*PRES CA=13  PR=750  AL=/HYDRO TEST PRESSURE/\",\n",
        "\"OPER CA=101 TE=228  AL=/FW CLEAN-UP RECIRCULATION (TH01)/ \",\n",
        "\"OPER CA=102 TE=91.7 AL=/NORMAL PLANT OPER/\",\n",
        "\"OPER CA=103 TE=91.7 AL=/Reactor Trip/\",\n",
        "\"\"\n",
        "]"
      ],
      "metadata": {
        "id": "bQicj2aD9fxa"
      },
      "execution_count": null,
      "outputs": []
    },
    {
      "cell_type": "markdown",
      "source": [
        "# 1차 데이터 전처리 : E3D 데이터 중 불필요한 칼럼 삭제"
      ],
      "metadata": {
        "id": "HqFyvq9ssNRq"
      }
    },
    {
      "cell_type": "code",
      "source": [
        "# E3D Data의 해더 리스트\n",
        "sample_hd = list(df_e3d)\n",
        "\n",
        "# .fre 작성에 필요 없는 칼럼들의 리스트, need_col에 들어있는 값 이외의 해더값 삭제\n",
        "drop_cols = []\n",
        "for col in sample_hd :\n",
        "    if col not in need_col :\n",
        "        drop_cols.append(col)\n",
        "df_e3d = df_e3d.drop(drop_cols, axis=1)"
      ],
      "metadata": {
        "id": "ZHhoUT4wskqN"
      },
      "execution_count": null,
      "outputs": []
    },
    {
      "cell_type": "markdown",
      "source": [
        "# 2차 데이터 전처리 : E3D 데이터에 .fre 파일 작성을 위해 필요한 칼럼 및 값들 추가"
      ],
      "metadata": {
        "id": "3XMT7i0ssqlP"
      }
    },
    {
      "cell_type": "markdown",
      "source": [
        "POINT IDENTITY 값 생성"
      ],
      "metadata": {
        "id": "LTuaBcwitBX3"
      }
    },
    {
      "cell_type": "code",
      "source": [
        "# \"PT=\" FIELD(노드값)에 들어갈 값 \"PT=20\"부터 시작하여 10씩 증가하는 방식으로 node번호를 매긴다.\n",
        "# (Peps의 node값(point identitiy)는 응력 해석의 기준점으로 반드시 형상의 개수와 일치하는 것이 아니며 사용자가 필요에 따라 추가할 수 있어야 하므로 10의 배수로 끊어서 작성한다)\n",
        "# E3D 데이터에서 ARRYA_ORDER가 정수가 아닌 실수인 경우(BRANCH의 DR/VT 등) 바로 앞의 번호 뒤에 A,B,C,D..Z순으로 채번한다\n",
        "\n",
        "pt_lst = []\n",
        "n = 1\n",
        "# 데이터의 'ARRAY ORDER' 칼럼을 순회하며 point identity 값을 생성하여 리스트에 넣는다\n",
        "for i in range(0, len(df_e3d)) :\n",
        "    # pt값이 정수인 경우\n",
        "    if  df_e3d.loc[i,'ARRAY ORDER'].astype(int) == df_e3d.loc[i,'ARRAY ORDER']:\n",
        "        pt_lst.append(n*10)\n",
        "        n +=1\n",
        "    # pt값이 실수인 경우\n",
        "    else :\n",
        "        tup = np.modf(df_e3d.loc[i,'ARRAY ORDER'])\n",
        "        pt = str(n*10) + chr(int(np.round(tup[0]*10, 1) + 64))\n",
        "        pt_lst.append(pt)\n",
        "\n",
        "df_e3d['PT='] = pt_lst #e3d 데이터 프레임에 \"PT=\" 열과 값 추가"
      ],
      "metadata": {
        "id": "8gbp9SG9s-lh"
      },
      "execution_count": null,
      "outputs": []
    },
    {
      "cell_type": "markdown",
      "source": [
        "CARD 값 생성"
      ],
      "metadata": {
        "id": "gF8Eq4QPt8um"
      }
    },
    {
      "cell_type": "code",
      "source": [
        "# \"CARD\"(.fre 스크립트의 매 줄 첫머리에 들어갈 명령어)\n",
        "\n",
        "card_lst = []\n",
        "# E3D 데이터의 'TYPE' 칼럼을 순회하며 \"CARD=\"값을 생성하여 리스트에 넣는다\n",
        "for i in range(0, len(df_e3d)) :\n",
        "    card_lst.append(dic_type_card[df_e3d.loc[i, 'TYPE']])\n",
        "df_e3d['CARD'] = card_lst"
      ],
      "metadata": {
        "id": "2fC7yCd7uD3_"
      },
      "execution_count": null,
      "outputs": []
    },
    {
      "cell_type": "markdown",
      "source": [
        "위치벡터 값 생성"
      ],
      "metadata": {
        "id": "383CtXRSuyyi"
      }
    },
    {
      "cell_type": "code",
      "source": [
        "coor_lst = []\n",
        "for i in range(0, len(df_e3d)) :\n",
        "    try :\n",
        "        coor_lst.append(extract_coor_v(df_e3d.loc[i, 'POS']))\n",
        "    # 'POS' 칼럼의 값들을 기본으로 참조하지만, 해당 값이 결측치일 경우 'IPTS'의 값을 2차로 참조한다\n",
        "    except:\n",
        "        coor_lst.append(extract_coor_v(df_e3d.loc[i, 'ITPS']))\n",
        "df_e3d['COOR'] = coor_lst"
      ],
      "metadata": {
        "id": "KudoK-ZsvBno"
      },
      "execution_count": null,
      "outputs": []
    },
    {
      "cell_type": "markdown",
      "source": [
        "joint type 값 생성"
      ],
      "metadata": {
        "id": "GUecOBBivEkt"
      }
    },
    {
      "cell_type": "code",
      "source": [
        "# 'EW=' component에 용접타입이 명시되어 있지 않은 경우 2\"미만 sw(3), 2\"이상은 bw(2)로 잡는다)\n",
        "ew_lst = []\n",
        "for i in range(0, len(df_e3d)) :\n",
        "    if float(df_e3d.loc[i, \"LBOR\"].replace(\"mm\", \"\")) < 50 :\n",
        "        ew_lst.append(3)\n",
        "    else :\n",
        "        ew_lst.append(2)\n",
        "\n",
        "df_e3d[\"EW=\"] = ew_lst"
      ],
      "metadata": {
        "id": "EeZilIw9vb2n"
      },
      "execution_count": null,
      "outputs": []
    },
    {
      "cell_type": "markdown",
      "source": [
        "기준점 벡터부터 시작하여 변위차 계산 및 좌표계 단위 환산"
      ],
      "metadata": {
        "id": "idYNjnn1vvWH"
      }
    },
    {
      "cell_type": "code",
      "source": [
        "# component array order에 따른 △v\n",
        "dv_lst = []\n",
        "for ele in range(0, len(df_e3d)) :\n",
        "    if ele == 0 :\n",
        "        dv = (0, 0, 0)\n",
        "        dv_lst.append(dv)\n",
        "    else :\n",
        "        dv = tuple(np.around(np.array(df_e3d.loc[ele, 'COOR']) - np.array(df_e3d.loc[ele-1, 'COOR']), decimals=10))\n",
        "        dv_lst.append(dv)\n",
        "df_e3d[\"dv\"] = dv_lst\n",
        "\n",
        "# dx, dy, dz 좌표 단위 변환(필요시)\n",
        "dx_lst_cnv = [ change_uom(from_uom='meter', to_uom='feet', value = df_e3d.loc[i, 'dv'][0]) for i in range(0, len(df_e3d)) ]\n",
        "dy_lst_cnv = [ change_uom(from_uom='meter', to_uom='feet', value = df_e3d.loc[i, 'dv'][1]) for i in range(0, len(df_e3d)) ]\n",
        "dz_lst_cnv = [ change_uom(from_uom='meter', to_uom='feet', value = df_e3d.loc[i, 'dv'][2]) for i in range(0, len(df_e3d)) ]\n",
        "df_e3d[\"DX=\"] = dx_lst_cnv\n",
        "df_e3d[\"DY=\"] = dy_lst_cnv\n",
        "df_e3d[\"DZ=\"] = dz_lst_cnv"
      ],
      "metadata": {
        "id": "z8X6wvdUv-iK"
      },
      "execution_count": null,
      "outputs": []
    },
    {
      "cell_type": "markdown",
      "source": [
        "RA 값 생성"
      ],
      "metadata": {
        "id": "bvgowQMWwOkO"
      }
    },
    {
      "cell_type": "code",
      "source": [
        "####### 먼저 E3D의 LBOR 값을 \"(인치)기준 NPS로 바꾼다\n",
        "nps_lst = []\n",
        "for i in range(0, len(df_e3d)) :\n",
        "    if int(df_e3d.loc[i, \"LBOR\"].replace(\"mm\", \"\")) == 15 :\n",
        "        nps_lst.append(0.5)\n",
        "    elif int(df_e3d.loc[i, \"LBOR\"].replace(\"mm\", \"\")) == 20 :\n",
        "        nps_lst.append(0.75)\n",
        "    elif int(df_e3d.loc[i, \"LBOR\"].replace(\"mm\", \"\")) == 32 :\n",
        "        nps_lst.append(1.25)\n",
        "    elif int(df_e3d.loc[i, \"LBOR\"].replace(\"mm\", \"\")) == 40 :\n",
        "        nps_lst.append(1.5)\n",
        "    elif int(df_e3d.loc[i, \"LBOR\"].replace(\"mm\", \"\")) == 65 :\n",
        "        nps_lst.append(2.5)\n",
        "    elif int(df_e3d.loc[i, \"LBOR\"].replace(\"mm\", \"\")) == 80 :\n",
        "        nps_lst.append(3)\n",
        "    else :\n",
        "        nps_lst.append(int(df_e3d.loc[i, \"LBOR\"].replace(\"mm\", \"\"))/25)\n",
        "\n",
        "df_e3d[\"NPS\"] = nps_lst\n"
      ],
      "metadata": {
        "id": "E-1Cq2gtwNaK"
      },
      "execution_count": null,
      "outputs": []
    },
    {
      "cell_type": "code",
      "source": [
        "# E3D에 추가한 CARD 열의 값 중 \"BRAD\"에 RA값을 집어넣는다. (다른 CARD들의 RA 값은 0또는 결측치로 둔다)\n",
        "    # 참고 :\n",
        "        # 엘보의 RAIDUS를 계산하기 위해서는 3가지 값을 알아야 한다\n",
        "            # 1. 소위 '엘보값'이라 불리는 엘보 끝단부터 센터까지의 거리. 아래 코드에서는 'span'이라는 변수에 할당함. LONG ELBOW와 SHORT ELBOW의 값이 다르고, sw와 bw의 값이 다르다\n",
        "            # 2. NPS에 따른 outdia(엘보의 외경) 값. 위에서 먼저 구해 놓은 값으로 계산한다\n",
        "            # 3. 엘보의 각도 : 엘보값과 RADIUS값을 계산할 때 모두 사용한다\n",
        "\n",
        "ra_lst = []\n",
        "for i in range(0, len(df_e3d)) :\n",
        "    if df_e3d.loc[i, 'CARD'] != \"BRAD\" :\n",
        "        ra_lst.append(0)\n",
        "\n",
        "    else :\n",
        "        # E3D 데이터 'ANGL' 열의 값에서 찾음\n",
        "        degree_str = df_e3d.loc[i, \"ANGL\"]\n",
        "        degree = float(degree_str.replace(\"degree\", \"\") if degree_str != \"-\" else 0)\n",
        "\n",
        "        # 바로 앞에서 추가한 NPS 값\n",
        "        nps = df_e3d.loc[i, \"NPS\"]\n",
        "        #od = get_od(df_material, nps)\n",
        "        od = dic_nps_od[nps]\n",
        "\n",
        "        # LONG ELBOW로 가정함\n",
        "        span = 1.5 * 25.4 * np.tan(degree / 2) #LONG ELBOW, 2인치 이상의 BW일때 엘보값 계산 공식 (1.5 * 25.4 * tan(각도/2), short엘보일 경우 1.5를 곱하지 않음)\n",
        "        ra = span * (1 / np.sin(degree / 2)) * 0.5 * od # RADIUS 계산 공식 (엘보값 * 1/sin(각도/2) * 엘보 반지름)\n",
        "        ra_cnv = np.round(change_uom('meter', 'feet', ra), 3) #피트로 단위변환\n",
        "        ra_lst.append(ra_cnv)\n",
        "\n",
        "df_e3d[\"RA=\"] = ra_lst"
      ],
      "metadata": {
        "id": "cQ5qRoruwpFl"
      },
      "execution_count": null,
      "outputs": []
    },
    {
      "cell_type": "markdown",
      "source": [
        "전처리를 끝낸 E3D 데이터"
      ],
      "metadata": {
        "id": "GY-hOu3CzAmM"
      }
    },
    {
      "cell_type": "code",
      "source": [
        "#df_e3d"
      ],
      "metadata": {
        "id": "OwbKjK0wn1dd"
      },
      "execution_count": null,
      "outputs": []
    },
    {
      "cell_type": "markdown",
      "source": [
        "추가된 코드 BRAN TE 값"
      ],
      "metadata": {
        "id": "J2PtaGvBn-OB"
      }
    },
    {
      "cell_type": "code",
      "source": [
        "#te_lst = []"
      ],
      "metadata": {
        "id": "GCtiE5A2n8zJ"
      },
      "execution_count": null,
      "outputs": []
    },
    {
      "cell_type": "markdown",
      "source": [
        "# .fre 파일 작성"
      ],
      "metadata": {
        "id": "AjcGDw1zzVDL"
      }
    },
    {
      "cell_type": "markdown",
      "source": [
        "Geometry 이전 부분의 작성"
      ],
      "metadata": {
        "id": "aZuRTca6zdgn"
      }
    },
    {
      "cell_type": "code",
      "source": [
        "###################### .fre 파일 작성 ##############################################\n",
        "#basic_form = open(\"base_format.txt\", 'rt', encoding='UTF8')\n",
        "#basic_contents = tuple([line for line in basic_form.readlines()])\n",
        "#basic_form.close()\n",
        "\n",
        "#######GEOMETRY의 첫 행\n",
        "final_output = open(\"sample_0824.fre\", 'w')\n",
        "\n",
        "for line in base_lines :\n",
        "    final_output.write(line)\n",
        "\n",
        "line = \"\\n\" \"COOR PT=\" + str(df_e3d.loc[0, \"PT=\"]) + \" \" \\\n",
        "    + \"AX=\" + str(change_uom(\"meter\", \"feet\", df_e3d.loc[0, \"COOR\"][0])) + \" \" \\\n",
        "    + \"AY=\" + str(change_uom(\"meter\", \"feet\", df_e3d.loc[0, \"COOR\"][1])) + \" \" \\\n",
        "    + \"AZ=\" + str(change_uom(\"meter\", \"feet\", df_e3d.loc[0, \"COOR\"][2])) + \"\\n\"\n",
        "final_output.write(line)\n",
        "\n",
        "line =\"ANCH \" + \"PT=\" + str(df_e3d.loc[0, \"PT=\"]) + \" TA=2\" + \" LV=1\" + '\\n'\n",
        "\n",
        "final_output.write(line)\n",
        "final_output.close()"
      ],
      "metadata": {
        "id": "kXwIzcTyzp6w"
      },
      "execution_count": null,
      "outputs": []
    },
    {
      "cell_type": "markdown",
      "source": [
        "main line 먼저 작성"
      ],
      "metadata": {
        "id": "APtqHuh8zrM4"
      }
    },
    {
      "cell_type": "code",
      "source": [
        "#GEOMETRY의 main line\n",
        "final_output = open(\"sample_0824.fre\", 'a')\n",
        "branch_point_lst = []\n",
        "for i in range(0, len(df_e3d)):\n",
        "    main_or_bran = True if df_e3d.loc[i,'ARRAY ORDER'].astype(int) == df_e3d.loc[i,'ARRAY ORDER'] else False\n",
        "    word_lst = []\n",
        "    card = df_e3d.loc[i, \"CARD\"]\n",
        "    point_id = df_e3d.loc[i, \"PT=\"]\n",
        "    dx = df_e3d.loc[i, \"DX=\"]\n",
        "    dy = df_e3d.loc[i, \"DY=\"]\n",
        "    dz = df_e3d.loc[i, \"DZ=\"]\n",
        "\n",
        "    if main_or_bran == True :\n",
        "\n",
        "        if card == \"BRAD\" :\n",
        "            word_lst.append(\"BRAD\")\n",
        "\n",
        "            word_lst.append(\"PT=\" + str(point_id))\n",
        "\n",
        "            word_lst.append(\"RA=\" + str(df_e3d.loc[i, \"RA=\"]))\n",
        "\n",
        "            word_lst.append(\"EW=\" + str(df_e3d.loc[i, \"EW=\"]))\n",
        "\n",
        "            final_output.write(\" \".join(word_lst) + '\\n')\n",
        "\n",
        "        # branch table 보강, junc 이후 분기점에 대한 처리방법 보강\n",
        "        elif card == \"BRAN\" :\n",
        "            word_lst.append(\"BRAN\")\n",
        "\n",
        "            word_lst.append(\"PT=\" + str(point_id))\n",
        "\n",
        "            if dx != 0 :\n",
        "                word_lst.append(\"DX=\" + str(dx))\n",
        "\n",
        "            if dy != 0 :\n",
        "                word_lst.append(\"DY=\" + str(dy))\n",
        "\n",
        "            if dz != 0 :\n",
        "                word_lst.append(\"D=Z\" + str(dz))\n",
        "\n",
        "            # case별로 te 분석하여 \"TE=\" table 작성\n",
        "\n",
        "            word_lst.append(\"TE=6\")\n",
        "\n",
        "            word_lst.append(\"EW=\" + str(df_e3d.loc[i, \"EW=\"]))\n",
        "\n",
        "            # branch point list에 추가 이후 가지관 위치 서술시 필요함\n",
        "            branch_point_lst.append(point_id)\n",
        "\n",
        "            final_output.write(\" \".join(word_lst) + '\\n')\n",
        "\n",
        "        elif card != \"RSTN\" and card !=None :\n",
        "            word_lst.append(card)\n",
        "\n",
        "            word_lst.append(\"PT=\" + str(point_id))\n",
        "\n",
        "            word_lst.append(\"EW=\" + str(df_e3d.loc[i, \"EW=\"]))\n",
        "\n",
        "            final_output.write(\" \".join(word_lst) + '\\n')\n",
        "\n",
        "        elif card == \"RSTN\" :\n",
        "            word_lst.append(card)\n",
        "\n",
        "            word_lst.append(\"PT=\" + str(point_id))\n",
        "\n",
        "            word_lst.append(\"EW=\" + str(df_e3d.loc[i, \"EW=\"]))\n",
        "\n",
        "            final_output.write(\" \".join(word_lst) + '\\n')\n",
        "\n",
        "        else :\n",
        "            continue\n",
        "\n",
        "    else :\n",
        "        continue\n",
        "\n",
        "# 종료 구문 작성 후 파일 닫\n",
        "final_output.write(\"ENDP\")\n",
        "final_output.close()"
      ],
      "metadata": {
        "id": "ve1GrMPrkWzy"
      },
      "execution_count": null,
      "outputs": []
    },
    {
      "cell_type": "code",
      "source": [
        "branch_point_lst"
      ],
      "metadata": {
        "colab": {
          "base_uri": "https://localhost:8080/"
        },
        "id": "nVC_uDTnpB9S",
        "outputId": "5241ecac-aebf-4a76-c982-32a29b139679"
      },
      "execution_count": null,
      "outputs": [
        {
          "output_type": "execute_result",
          "data": {
            "text/plain": [
              "[70, 150, 310, 320]"
            ]
          },
          "metadata": {},
          "execution_count": 50
        }
      ]
    },
    {
      "cell_type": "code",
      "source": [
        "final_output = open(\"sample_0824.fre\", 'a')\n",
        "\n",
        "condition = (df_e3d.loc[i,'ARRAY ORDER'].astype(int) != df_e3d.loc[i,'ARRAY ORDER'])\n",
        "\n",
        "\n",
        "\n",
        "final_output.close()"
      ],
      "metadata": {
        "id": "-X8fdRZdoomx"
      },
      "execution_count": null,
      "outputs": []
    },
    {
      "cell_type": "code",
      "source": [
        "\n",
        "######## GEOMETRY의 BRNACH, DR, VT\n",
        "\n",
        "### 추가로 csv 파일(참고용)\n",
        "df_e3d.to_csv(\"final_df.csv\", index=False)"
      ],
      "metadata": {
        "id": "JY6VHOSpomYj"
      },
      "execution_count": null,
      "outputs": []
    }
  ]
}